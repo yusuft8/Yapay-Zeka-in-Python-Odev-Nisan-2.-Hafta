{
 "cells": [
  {
   "cell_type": "markdown",
   "id": "13a565f8-1be5-4761-ab7c-20c8a078c7da",
   "metadata": {},
   "source": [
    "Decision Tree:Karar ağacı bir problemi adım adım dallara ayırarak çözen, ağaç benzeri bir yapıya sahip algoritmadır. Her düğüm bir özelliği kontrol edere her dal bir karar sonucunu temsil eder ve her yaprak bir sınıfı ya da sonucu belirtir. Örneğin x'in 50 den küçük olduğu durumda "
   ]
  }
 ],
 "metadata": {
  "kernelspec": {
   "display_name": "Python [conda env:python_a]",
   "language": "python",
   "name": "conda-env-python_a-py"
  },
  "language_info": {
   "codemirror_mode": {
    "name": "ipython",
    "version": 3
   },
   "file_extension": ".py",
   "mimetype": "text/x-python",
   "name": "python",
   "nbconvert_exporter": "python",
   "pygments_lexer": "ipython3",
   "version": "3.9.21"
  }
 },
 "nbformat": 4,
 "nbformat_minor": 5
}
